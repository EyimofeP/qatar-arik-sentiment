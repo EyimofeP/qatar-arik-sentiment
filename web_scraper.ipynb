{
 "cells": [
  {
   "cell_type": "markdown",
   "metadata": {},
   "source": [
    "# Scrapping Reviews from Skytrax"
   ]
  },
  {
   "cell_type": "code",
   "execution_count": 1,
   "metadata": {},
   "outputs": [],
   "source": [
    "import pandas as pd\n",
    "import requests\n",
    "from bs4 import BeautifulSoup"
   ]
  },
  {
   "cell_type": "markdown",
   "metadata": {},
   "source": [
    "Qatar Airways"
   ]
  },
  {
   "cell_type": "code",
   "execution_count": 2,
   "metadata": {},
   "outputs": [
    {
     "name": "stdout",
     "output_type": "stream",
     "text": [
      "Scraping page 1\n",
      "   ---> 100 total reviews\n",
      "Scraping page 2\n",
      "   ---> 200 total reviews\n",
      "Scraping page 3\n",
      "   ---> 300 total reviews\n",
      "Scraping page 4\n",
      "   ---> 400 total reviews\n",
      "Scraping page 5\n",
      "   ---> 500 total reviews\n",
      "Scraping page 6\n",
      "   ---> 600 total reviews\n",
      "Scraping page 7\n",
      "   ---> 700 total reviews\n",
      "Scraping page 8\n",
      "   ---> 800 total reviews\n",
      "Scraping page 9\n",
      "   ---> 900 total reviews\n",
      "Scraping page 10\n",
      "   ---> 1000 total reviews\n",
      "Scraping page 11\n",
      "   ---> 1100 total reviews\n",
      "Scraping page 12\n",
      "   ---> 1200 total reviews\n",
      "Scraping page 13\n",
      "   ---> 1300 total reviews\n",
      "Scraping page 14\n",
      "   ---> 1400 total reviews\n",
      "Scraping page 15\n",
      "   ---> 1500 total reviews\n",
      "Scraping page 16\n",
      "   ---> 1600 total reviews\n",
      "Scraping page 17\n",
      "   ---> 1700 total reviews\n",
      "Scraping page 18\n",
      "   ---> 1800 total reviews\n",
      "Scraping page 19\n",
      "   ---> 1900 total reviews\n",
      "Scraping page 20\n",
      "   ---> 2000 total reviews\n"
     ]
    }
   ],
   "source": [
    "url = \"https://www.airlinequality.com/airline-reviews/qatar-airways/\"\n",
    "pages = 1\n",
    "page_size = 100\n",
    "\n",
    "reviews = []\n",
    "\n",
    "# for i in range(1, pages + 1):\n",
    "for i in range(1, pages + 1):\n",
    "\n",
    "    print(f\"Scraping page {i}\")\n",
    "\n",
    "    # Create URL to collect links from paginated data\n",
    "    url = f\"{url}/page/{i}/?sortby=post_date%3ADesc&pagesize={page_size}\"\n",
    "\n",
    "    # Collect HTML data from this page\n",
    "    response = requests.get(url)\n",
    "\n",
    "    # Parse content\n",
    "    content = response.content\n",
    "    soup = BeautifulSoup(content, 'html.parser')\n",
    "    for para in soup.find_all(\"div\", {\"class\": \"text_content\"}):\n",
    "        reviews.append(para.get_text())\n",
    "    \n",
    "    print(f\"   ---> {len(reviews)} total reviews\")"
   ]
  },
  {
   "cell_type": "code",
   "execution_count": 3,
   "metadata": {},
   "outputs": [
    {
     "data": {
      "text/html": [
       "<div>\n",
       "<style scoped>\n",
       "    .dataframe tbody tr th:only-of-type {\n",
       "        vertical-align: middle;\n",
       "    }\n",
       "\n",
       "    .dataframe tbody tr th {\n",
       "        vertical-align: top;\n",
       "    }\n",
       "\n",
       "    .dataframe thead th {\n",
       "        text-align: right;\n",
       "    }\n",
       "</style>\n",
       "<table border=\"1\" class=\"dataframe\">\n",
       "  <thead>\n",
       "    <tr style=\"text-align: right;\">\n",
       "      <th></th>\n",
       "      <th>reviews</th>\n",
       "    </tr>\n",
       "  </thead>\n",
       "  <tbody>\n",
       "    <tr>\n",
       "      <th>0</th>\n",
       "      <td>✅ Trip Verified |  Doha-Bangkok 29 Dec. 2022 o...</td>\n",
       "    </tr>\n",
       "    <tr>\n",
       "      <th>1</th>\n",
       "      <td>✅ Trip Verified |  We purchased our package in...</td>\n",
       "    </tr>\n",
       "    <tr>\n",
       "      <th>2</th>\n",
       "      <td>✅ Trip Verified |  Flights and service were go...</td>\n",
       "    </tr>\n",
       "    <tr>\n",
       "      <th>3</th>\n",
       "      <td>✅ Trip Verified | Quite good airline. However ...</td>\n",
       "    </tr>\n",
       "    <tr>\n",
       "      <th>4</th>\n",
       "      <td>Not Verified | It took 45 minutes from the pla...</td>\n",
       "    </tr>\n",
       "  </tbody>\n",
       "</table>\n",
       "</div>"
      ],
      "text/plain": [
       "                                             reviews\n",
       "0  ✅ Trip Verified |  Doha-Bangkok 29 Dec. 2022 o...\n",
       "1  ✅ Trip Verified |  We purchased our package in...\n",
       "2  ✅ Trip Verified |  Flights and service were go...\n",
       "3  ✅ Trip Verified | Quite good airline. However ...\n",
       "4  Not Verified | It took 45 minutes from the pla..."
      ]
     },
     "execution_count": 3,
     "metadata": {},
     "output_type": "execute_result"
    }
   ],
   "source": [
    "df = pd.DataFrame()\n",
    "df[\"reviews\"] = reviews\n",
    "df.head()"
   ]
  },
  {
   "cell_type": "code",
   "execution_count": 4,
   "metadata": {},
   "outputs": [],
   "source": [
    "df.to_csv(\"data/qatar_reviews.csv\", index=False)"
   ]
  },
  {
   "cell_type": "markdown",
   "metadata": {},
   "source": [
    "Arik Airways"
   ]
  },
  {
   "cell_type": "code",
   "execution_count": 5,
   "metadata": {},
   "outputs": [
    {
     "name": "stdout",
     "output_type": "stream",
     "text": [
      "Scraping page 1\n",
      "   ---> 53 total reviews\n",
      "Scraping page 2\n",
      "   ---> 106 total reviews\n",
      "Scraping page 3\n",
      "   ---> 159 total reviews\n",
      "Scraping page 4\n",
      "   ---> 212 total reviews\n",
      "Scraping page 5\n",
      "   ---> 265 total reviews\n",
      "Scraping page 6\n",
      "   ---> 318 total reviews\n",
      "Scraping page 7\n",
      "   ---> 371 total reviews\n",
      "Scraping page 8\n",
      "   ---> 424 total reviews\n",
      "Scraping page 9\n",
      "   ---> 477 total reviews\n",
      "Scraping page 10\n",
      "   ---> 530 total reviews\n",
      "Scraping page 11\n",
      "   ---> 583 total reviews\n",
      "Scraping page 12\n",
      "   ---> 636 total reviews\n",
      "Scraping page 13\n",
      "   ---> 689 total reviews\n",
      "Scraping page 14\n",
      "   ---> 742 total reviews\n",
      "Scraping page 15\n",
      "   ---> 795 total reviews\n",
      "Scraping page 16\n",
      "   ---> 848 total reviews\n",
      "Scraping page 17\n",
      "   ---> 901 total reviews\n",
      "Scraping page 18\n",
      "   ---> 954 total reviews\n",
      "Scraping page 19\n",
      "   ---> 1007 total reviews\n",
      "Scraping page 20\n",
      "   ---> 1060 total reviews\n",
      "Scraping page 21\n",
      "   ---> 1113 total reviews\n",
      "Scraping page 22\n",
      "   ---> 1166 total reviews\n",
      "Scraping page 23\n",
      "   ---> 1219 total reviews\n",
      "Scraping page 24\n",
      "   ---> 1272 total reviews\n",
      "Scraping page 25\n",
      "   ---> 1325 total reviews\n",
      "Scraping page 26\n",
      "   ---> 1378 total reviews\n",
      "Scraping page 27\n",
      "   ---> 1431 total reviews\n",
      "Scraping page 28\n",
      "   ---> 1484 total reviews\n",
      "Scraping page 29\n",
      "   ---> 1537 total reviews\n",
      "Scraping page 30\n",
      "   ---> 1590 total reviews\n",
      "Scraping page 31\n",
      "   ---> 1643 total reviews\n",
      "Scraping page 32\n",
      "   ---> 1696 total reviews\n",
      "Scraping page 33\n",
      "   ---> 1749 total reviews\n",
      "Scraping page 34\n",
      "   ---> 1802 total reviews\n",
      "Scraping page 35\n",
      "   ---> 1855 total reviews\n",
      "Scraping page 36\n",
      "   ---> 1908 total reviews\n",
      "Scraping page 37\n",
      "   ---> 1961 total reviews\n",
      "Scraping page 38\n",
      "   ---> 2014 total reviews\n",
      "Scraping page 39\n",
      "   ---> 2067 total reviews\n",
      "Scraping page 40\n",
      "   ---> 2120 total reviews\n"
     ]
    }
   ],
   "source": [
    "url = \"https://www.airlinequality.com/airline-reviews/arik-air/\"\n",
    "pages = 1\n",
    "page_size = 100\n",
    "\n",
    "reviews = []\n",
    "\n",
    "# for i in range(1, pages + 1):\n",
    "for i in range(1, pages + 1):\n",
    "\n",
    "    print(f\"Scraping page {i}\")\n",
    "\n",
    "    # Create URL to collect links from paginated data\n",
    "    url = f\"{url}/page/{i}/?sortby=post_date%3ADesc&pagesize={page_size}\"\n",
    "\n",
    "    # Collect HTML data from this page\n",
    "    response = requests.get(url)\n",
    "\n",
    "    # Parse content\n",
    "    content = response.content\n",
    "    soup = BeautifulSoup(content, 'html.parser')\n",
    "    for para in soup.find_all(\"div\", {\"class\": \"text_content\"}):\n",
    "        reviews.append(para.get_text())\n",
    "    \n",
    "    print(f\"   ---> {len(reviews)} total reviews\")"
   ]
  },
  {
   "cell_type": "code",
   "execution_count": 6,
   "metadata": {},
   "outputs": [
    {
     "data": {
      "text/html": [
       "<div>\n",
       "<style scoped>\n",
       "    .dataframe tbody tr th:only-of-type {\n",
       "        vertical-align: middle;\n",
       "    }\n",
       "\n",
       "    .dataframe tbody tr th {\n",
       "        vertical-align: top;\n",
       "    }\n",
       "\n",
       "    .dataframe thead th {\n",
       "        text-align: right;\n",
       "    }\n",
       "</style>\n",
       "<table border=\"1\" class=\"dataframe\">\n",
       "  <thead>\n",
       "    <tr style=\"text-align: right;\">\n",
       "      <th></th>\n",
       "      <th>reviews</th>\n",
       "    </tr>\n",
       "  </thead>\n",
       "  <tbody>\n",
       "    <tr>\n",
       "      <th>0</th>\n",
       "      <td>✅ Trip Verified |  Worst airline in Nigeria. T...</td>\n",
       "    </tr>\n",
       "    <tr>\n",
       "      <th>1</th>\n",
       "      <td>Not Verified |  I am quite accommodating as a ...</td>\n",
       "    </tr>\n",
       "    <tr>\n",
       "      <th>2</th>\n",
       "      <td>Not Verified |  The shuttle bus dropped us the...</td>\n",
       "    </tr>\n",
       "    <tr>\n",
       "      <th>3</th>\n",
       "      <td>Not Verified |  I booked Arik flight from Lago...</td>\n",
       "    </tr>\n",
       "    <tr>\n",
       "      <th>4</th>\n",
       "      <td>Not Verified |  Lagos to Warri. Terrible. Last...</td>\n",
       "    </tr>\n",
       "  </tbody>\n",
       "</table>\n",
       "</div>"
      ],
      "text/plain": [
       "                                             reviews\n",
       "0  ✅ Trip Verified |  Worst airline in Nigeria. T...\n",
       "1  Not Verified |  I am quite accommodating as a ...\n",
       "2  Not Verified |  The shuttle bus dropped us the...\n",
       "3  Not Verified |  I booked Arik flight from Lago...\n",
       "4  Not Verified |  Lagos to Warri. Terrible. Last..."
      ]
     },
     "execution_count": 6,
     "metadata": {},
     "output_type": "execute_result"
    }
   ],
   "source": [
    "df = pd.DataFrame()\n",
    "df[\"reviews\"] = reviews\n",
    "df.head()"
   ]
  },
  {
   "cell_type": "code",
   "execution_count": 7,
   "metadata": {},
   "outputs": [],
   "source": [
    "df.to_csv(\"data/arik_reviews.csv\", index=False)"
   ]
  }
 ],
 "metadata": {
  "kernelspec": {
   "display_name": "base",
   "language": "python",
   "name": "python3"
  },
  "language_info": {
   "codemirror_mode": {
    "name": "ipython",
    "version": 3
   },
   "file_extension": ".py",
   "mimetype": "text/x-python",
   "name": "python",
   "nbconvert_exporter": "python",
   "pygments_lexer": "ipython3",
   "version": "3.9.13 (main, Aug 25 2022, 23:51:50) [MSC v.1916 64 bit (AMD64)]"
  },
  "orig_nbformat": 4,
  "vscode": {
   "interpreter": {
    "hash": "a6a1b2dbb3031427df37eac5341fb4b7751d2040259cdbf89f4f38743983c96f"
   }
  }
 },
 "nbformat": 4,
 "nbformat_minor": 2
}
